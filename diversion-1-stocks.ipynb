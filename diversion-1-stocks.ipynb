{
 "cells": [
  {
   "cell_type": "markdown",
   "metadata": {},
   "source": [
    "# There is a wealth of online data sets"
   ]
  },
  {
   "cell_type": "markdown",
   "metadata": {},
   "source": [
    "For the more business-minded attendees, let's switch briefly from flowers to stocks."
   ]
  },
  {
   "cell_type": "markdown",
   "metadata": {},
   "source": [
    "## Example:  grabbing data from the Yahoo finance API\n",
    "\n",
    "\"Yahoo_fin is a Python 3 package designed to scrape historical stock price data, as well as to provide current information on market caps, dividend yields, and which stocks comprise the major exchanges. Additional functionality includes scraping income statements, balance sheets, cash flows, holder information, and analyst data. The package includes the ability to scrape live (real-time) stock prices, capture cryptocurrency data, and get the most actively traded stocks on a current trading day. Yahoo_fin also contains a module for retrieving option prices and expiration dates.\" \n",
    "\n",
    "-- [yahoo_fin documentation](http://theautomatic.net/yahoo_fin-documentation/)"
   ]
  },
  {
   "cell_type": "code",
   "execution_count": 1,
   "metadata": {},
   "outputs": [],
   "source": [
    "import yahoo_fin.stock_info as si"
   ]
  },
  {
   "cell_type": "markdown",
   "metadata": {},
   "source": [
    "I will come back to the following libraries later, but include them now for a bit of fun."
   ]
  },
  {
   "cell_type": "code",
   "execution_count": 2,
   "metadata": {},
   "outputs": [],
   "source": [
    "import requests\n",
    "import pandas as pd\n",
    "import matplotlib.pyplot as plt\n",
    "import ipywidgets"
   ]
  },
  {
   "cell_type": "markdown",
   "metadata": {},
   "source": [
    "### Which companies comprise the Dow Jones Industrial Average?\n",
    "\n",
    "* Use the Yahoo finance API to access the Dow's stock ticker symbols."
   ]
  },
  {
   "cell_type": "code",
   "execution_count": 3,
   "metadata": {},
   "outputs": [
    {
     "data": {
      "text/plain": [
       "['AAPL',\n",
       " 'AXP',\n",
       " 'BA',\n",
       " 'CAT',\n",
       " 'CSCO',\n",
       " 'CVX',\n",
       " 'DIS',\n",
       " 'DOW',\n",
       " 'GS',\n",
       " 'HD',\n",
       " 'IBM',\n",
       " 'INTC',\n",
       " 'JNJ',\n",
       " 'JPM',\n",
       " 'KO',\n",
       " 'MCD',\n",
       " 'MMM',\n",
       " 'MRK',\n",
       " 'MSFT',\n",
       " 'NKE',\n",
       " 'PFE',\n",
       " 'PG',\n",
       " 'RTX',\n",
       " 'TRV',\n",
       " 'UNH',\n",
       " 'V',\n",
       " 'VZ',\n",
       " 'WBA',\n",
       " 'WMT',\n",
       " 'XOM']"
      ]
     },
     "execution_count": 3,
     "metadata": {},
     "output_type": "execute_result"
    }
   ],
   "source": [
    "dow_list = si.tickers_dow()\n",
    "dow_list"
   ]
  },
  {
   "cell_type": "markdown",
   "metadata": {},
   "source": [
    "The Dow is comprised of 30 companies -- check."
   ]
  },
  {
   "cell_type": "markdown",
   "metadata": {},
   "source": [
    "We can also access APIs on the web with the requests library.\n",
    "\n",
    "\"Requests is an elegant and simple HTTP library for Python, built for human beings.  Requests allows you to send HTTP/1.1 requests extremely easily.\" \n",
    "<br>-- https://requests.readthedocs.io/en/master/ "
   ]
  },
  {
   "cell_type": "code",
   "execution_count": 4,
   "metadata": {},
   "outputs": [],
   "source": [
    "# Getting the actual company name from a ticker symbol\n",
    "def get_symbol(symbol):\n",
    "    url = \"http://d.yimg.com/autoc.finance.yahoo.com/autoc?query={}&region=1&lang=en\".format(symbol)\n",
    "    result = requests.get(url).json()\n",
    "    for x in result['ResultSet']['Result']:\n",
    "        if x['symbol'] == symbol:\n",
    "            return x['name']"
   ]
  },
  {
   "cell_type": "code",
   "execution_count": 5,
   "metadata": {},
   "outputs": [
    {
     "data": {
      "text/plain": [
       "'Microsoft Corporation'"
      ]
     },
     "execution_count": 5,
     "metadata": {},
     "output_type": "execute_result"
    }
   ],
   "source": [
    "get_symbol('MSFT')"
   ]
  },
  {
   "cell_type": "code",
   "execution_count": 6,
   "metadata": {},
   "outputs": [
    {
     "name": "stdout",
     "output_type": "stream",
     "text": [
      "AAPL \t Apple Inc.\n",
      "AXP \t American Express Company\n",
      "BA \t The Boeing Company\n",
      "CAT \t Caterpillar Inc.\n",
      "CSCO \t Cisco Systems, Inc.\n",
      "CVX \t Chevron Corporation\n",
      "DIS \t The Walt Disney Company\n",
      "DOW \t Dow Inc.\n",
      "GS \t The Goldman Sachs Group, Inc.\n",
      "HD \t The Home Depot, Inc.\n",
      "IBM \t International Business Machines Corporation\n",
      "INTC \t Intel Corporation\n",
      "JNJ \t Johnson & Johnson\n",
      "JPM \t JPMorgan Chase & Co.\n",
      "KO \t The Coca-Cola Company\n",
      "MCD \t McDonald's Corporation\n",
      "MMM \t 3M Company\n",
      "MRK \t Merck & Co., Inc.\n",
      "MSFT \t Microsoft Corporation\n",
      "NKE \t NIKE, Inc.\n",
      "PFE \t Pfizer Inc.\n",
      "PG \t The Procter & Gamble Company\n",
      "RTX \t Raytheon Technologies Corporation\n",
      "TRV \t The Travelers Companies, Inc.\n",
      "UNH \t UnitedHealth Group Incorporated\n",
      "V \t Visa Inc.\n",
      "VZ \t Verizon Communications Inc.\n",
      "WBA \t Walgreens Boots Alliance, Inc.\n",
      "WMT \t Walmart Inc.\n",
      "XOM \t Exxon Mobil Corporation\n"
     ]
    }
   ],
   "source": [
    "for i in dow_list:\n",
    "    print(i,'\\t',get_symbol(i))"
   ]
  },
  {
   "cell_type": "markdown",
   "metadata": {},
   "source": [
    "### What is the historical value of DJIA stocks over 2020 to date?"
   ]
  },
  {
   "cell_type": "code",
   "execution_count": 7,
   "metadata": {},
   "outputs": [],
   "source": [
    "few_days = si.get_data('aapl', start_date = '01/01/2020', end_date = '08/17/2020')"
   ]
  },
  {
   "cell_type": "code",
   "execution_count": 8,
   "metadata": {},
   "outputs": [
    {
     "data": {
      "text/plain": [
       "pandas.core.frame.DataFrame"
      ]
     },
     "execution_count": 8,
     "metadata": {},
     "output_type": "execute_result"
    }
   ],
   "source": [
    "type(few_days)"
   ]
  },
  {
   "cell_type": "code",
   "execution_count": 9,
   "metadata": {},
   "outputs": [
    {
     "data": {
      "text/plain": [
       "'Apple Inc.'"
      ]
     },
     "execution_count": 9,
     "metadata": {},
     "output_type": "execute_result"
    }
   ],
   "source": [
    "get_symbol('AAPL')"
   ]
  },
  {
   "cell_type": "code",
   "execution_count": 10,
   "metadata": {},
   "outputs": [
    {
     "data": {
      "text/html": [
       "<div>\n",
       "<style scoped>\n",
       "    .dataframe tbody tr th:only-of-type {\n",
       "        vertical-align: middle;\n",
       "    }\n",
       "\n",
       "    .dataframe tbody tr th {\n",
       "        vertical-align: top;\n",
       "    }\n",
       "\n",
       "    .dataframe thead th {\n",
       "        text-align: right;\n",
       "    }\n",
       "</style>\n",
       "<table border=\"1\" class=\"dataframe\">\n",
       "  <thead>\n",
       "    <tr style=\"text-align: right;\">\n",
       "      <th></th>\n",
       "      <th>open</th>\n",
       "      <th>high</th>\n",
       "      <th>low</th>\n",
       "      <th>close</th>\n",
       "      <th>adjclose</th>\n",
       "      <th>volume</th>\n",
       "      <th>ticker</th>\n",
       "    </tr>\n",
       "  </thead>\n",
       "  <tbody>\n",
       "    <tr>\n",
       "      <th>2020-01-02</th>\n",
       "      <td>296.239990</td>\n",
       "      <td>300.600006</td>\n",
       "      <td>295.190002</td>\n",
       "      <td>300.350006</td>\n",
       "      <td>298.292145</td>\n",
       "      <td>33870100</td>\n",
       "      <td>AAPL</td>\n",
       "    </tr>\n",
       "    <tr>\n",
       "      <th>2020-01-03</th>\n",
       "      <td>297.149994</td>\n",
       "      <td>300.579987</td>\n",
       "      <td>296.500000</td>\n",
       "      <td>297.429993</td>\n",
       "      <td>295.392120</td>\n",
       "      <td>36580700</td>\n",
       "      <td>AAPL</td>\n",
       "    </tr>\n",
       "    <tr>\n",
       "      <th>2020-01-06</th>\n",
       "      <td>293.790009</td>\n",
       "      <td>299.959991</td>\n",
       "      <td>292.750000</td>\n",
       "      <td>299.799988</td>\n",
       "      <td>297.745880</td>\n",
       "      <td>29596800</td>\n",
       "      <td>AAPL</td>\n",
       "    </tr>\n",
       "    <tr>\n",
       "      <th>2020-01-07</th>\n",
       "      <td>299.839996</td>\n",
       "      <td>300.899994</td>\n",
       "      <td>297.480011</td>\n",
       "      <td>298.390015</td>\n",
       "      <td>296.345581</td>\n",
       "      <td>27218000</td>\n",
       "      <td>AAPL</td>\n",
       "    </tr>\n",
       "    <tr>\n",
       "      <th>2020-01-08</th>\n",
       "      <td>297.160004</td>\n",
       "      <td>304.440002</td>\n",
       "      <td>297.160004</td>\n",
       "      <td>303.190002</td>\n",
       "      <td>301.112640</td>\n",
       "      <td>33019800</td>\n",
       "      <td>AAPL</td>\n",
       "    </tr>\n",
       "  </tbody>\n",
       "</table>\n",
       "</div>"
      ],
      "text/plain": [
       "                  open        high         low       close    adjclose  \\\n",
       "2020-01-02  296.239990  300.600006  295.190002  300.350006  298.292145   \n",
       "2020-01-03  297.149994  300.579987  296.500000  297.429993  295.392120   \n",
       "2020-01-06  293.790009  299.959991  292.750000  299.799988  297.745880   \n",
       "2020-01-07  299.839996  300.899994  297.480011  298.390015  296.345581   \n",
       "2020-01-08  297.160004  304.440002  297.160004  303.190002  301.112640   \n",
       "\n",
       "              volume ticker  \n",
       "2020-01-02  33870100   AAPL  \n",
       "2020-01-03  36580700   AAPL  \n",
       "2020-01-06  29596800   AAPL  \n",
       "2020-01-07  27218000   AAPL  \n",
       "2020-01-08  33019800   AAPL  "
      ]
     },
     "execution_count": 10,
     "metadata": {},
     "output_type": "execute_result"
    }
   ],
   "source": [
    "few_days.head()"
   ]
  },
  {
   "cell_type": "markdown",
   "metadata": {},
   "source": [
    "It's easy to plot with Pandas."
   ]
  },
  {
   "cell_type": "code",
   "execution_count": 23,
   "metadata": {},
   "outputs": [
    {
     "data": {
      "image/png": "[encoded data removed]",
      "text/plain": [
       "<Figure size 432x288 with 1 Axes>"
      ]
     },
     "metadata": {
      "needs_background": "light"
     },
     "output_type": "display_data"
    }
   ],
   "source": [
    "few_days['high'].plot();"
   ]
  },
  {
   "cell_type": "markdown",
   "metadata": {},
   "source": [
    "For more customization, Pandas uses matplotlib as a base library."
   ]
  },
  {
   "cell_type": "code",
   "execution_count": 31,
   "metadata": {},
   "outputs": [
    {
     "data": {
      "image/png": "[encoded data removed]",
      "text/plain": [
       "<Figure size 576x360 with 1 Axes>"
      ]
     },
     "metadata": {
      "needs_background": "light"
     },
     "output_type": "display_data"
    }
   ],
   "source": [
    "fig,ax = plt.subplots(figsize=(8,5))\n",
    "ax = few_days['high'].plot()\n",
    "ax.set_title(get_symbol('AAPL'))\n",
    "fig.show()"
   ]
  },
  {
   "cell_type": "code",
   "execution_count": 34,
   "metadata": {},
   "outputs": [
    {
     "data": {
      "application/vnd.jupyter.widget-view+json": {
       "model_id": "b2ba73a8a99d4fcea099618f43e872dd",
       "version_major": 2,
       "version_minor": 0
      },
      "text/plain": [
       "interactive(children=(Dropdown(description='ticker', options=('AAPL', 'AXP', 'BA', 'CAT', 'CSCO', 'CVX', 'DIS'…"
      ]
     },
     "metadata": {},
     "output_type": "display_data"
    }
   ],
   "source": [
    "def plotstock(ticker='AAPL'):\n",
    "    few_days = si.get_data(ticker, start_date = '01/01/2020', end_date = '08/17/2020')\n",
    "    fig,ax = plt.subplots(figsize=(8,5))\n",
    "    ax = few_days['high'].plot()\n",
    "    ax.set_title(get_symbol(ticker))\n",
    "    fig.show()\n",
    "    \n",
    "ipywidgets.interact(plotstock,ticker=dow_list);"
   ]
  },
  {
   "cell_type": "code",
   "execution_count": 11,
   "metadata": {},
   "outputs": [
    {
     "data": {
      "text/plain": [
       "[<matplotlib.lines.Line2D at 0x7f179802a7c0>]"
      ]
     },
     "execution_count": 11,
     "metadata": {},
     "output_type": "execute_result"
    },
    {
     "data": {
      "image/png": "[encoded data removed]",
      "text/plain": [
       "<Figure size 432x288 with 1 Axes>"
      ]
     },
     "metadata": {
      "needs_background": "light"
     },
     "output_type": "display_data"
    }
   ],
   "source": [
    "plt.plot(few_days.index,few_days.high)"
   ]
  },
  {
   "cell_type": "code",
   "execution_count": 13,
   "metadata": {},
   "outputs": [
    {
     "data": {
      "image/png": "[encoded data removed]",
      "text/plain": [
       "<Figure size 576x360 with 1 Axes>"
      ]
     },
     "metadata": {
      "needs_background": "light"
     },
     "output_type": "display_data"
    }
   ],
   "source": [
    "fig,ax = plt.subplots(figsize=(8,5))\n",
    "plt.plot(few_days.index,few_days.high)\n",
    "fig.autofmt_xdate()"
   ]
  },
  {
   "cell_type": "code",
   "execution_count": 14,
   "metadata": {},
   "outputs": [
    {
     "data": {
      "image/png": "[encoded data removed]",
      "text/plain": [
       "<Figure size 576x360 with 1 Axes>"
      ]
     },
     "metadata": {
      "needs_background": "light"
     },
     "output_type": "display_data"
    }
   ],
   "source": [
    "fig,ax = plt.subplots(figsize=(8,5))\n",
    "plt.plot(few_days.index,few_days.high)\n",
    "ax.set_title(get_symbol('AAPL'))\n",
    "fig.autofmt_xdate()"
   ]
  },
  {
   "cell_type": "code",
   "execution_count": 19,
   "metadata": {},
   "outputs": [
    {
     "data": {
      "application/vnd.jupyter.widget-view+json": {
       "model_id": "cfb3a00a2417425e9d7501853a64b48c",
       "version_major": 2,
       "version_minor": 0
      },
      "text/plain": [
       "interactive(children=(Dropdown(description='ticker', options=('AAPL', 'AXP', 'BA', 'CAT', 'CSCO', 'CVX', 'DIS'…"
      ]
     },
     "metadata": {},
     "output_type": "display_data"
    }
   ],
   "source": [
    "def plotstock(ticker='AAPL'):\n",
    "    few_days = si.get_data(ticker, start_date = '01/01/2020', end_date = '08/17/2020')\n",
    "    fig,ax = plt.subplots(figsize=(8,5))\n",
    "    plt.plot(few_days.index,few_days.high)\n",
    "    ax.set_title(get_symbol(ticker))\n",
    "    fig.autofmt_xdate()\n",
    "    \n",
    "ipywidgets.interact(plotstock,ticker=dow_list);"
   ]
  },
  {
   "cell_type": "markdown",
   "metadata": {},
   "source": [
    "### Apple is one of these companies: Who are the largest holders of Apple stock (by percentage)?"
   ]
  },
  {
   "cell_type": "code",
   "execution_count": 7,
   "metadata": {},
   "outputs": [
    {
     "data": {
      "text/plain": [
       "dict_keys(['Major Holders', 'Direct Holders (Forms 3 and 4)', 'Top Institutional Holders'])"
      ]
     },
     "execution_count": 7,
     "metadata": {},
     "output_type": "execute_result"
    }
   ],
   "source": [
    "apple_holders = si.get_holders('aapl')\n",
    "apple_holders.keys()"
   ]
  },
  {
   "cell_type": "markdown",
   "metadata": {},
   "source": [
    "The API returns a dictionary that includes pandas dataframes."
   ]
  },
  {
   "cell_type": "code",
   "execution_count": 11,
   "metadata": {},
   "outputs": [
    {
     "name": "stdout",
     "output_type": "stream",
     "text": [
      "<class 'dict'>\n",
      "<class 'pandas.core.frame.DataFrame'>\n"
     ]
    }
   ],
   "source": [
    "print(type(apple_holders))\n",
    "print(type(apple_holders['Major Holders']))"
   ]
  },
  {
   "cell_type": "code",
   "execution_count": 12,
   "metadata": {},
   "outputs": [
    {
     "data": {
      "text/html": [
       "<div>\n",
       "<style scoped>\n",
       "    .dataframe tbody tr th:only-of-type {\n",
       "        vertical-align: middle;\n",
       "    }\n",
       "\n",
       "    .dataframe tbody tr th {\n",
       "        vertical-align: top;\n",
       "    }\n",
       "\n",
       "    .dataframe thead th {\n",
       "        text-align: right;\n",
       "    }\n",
       "</style>\n",
       "<table border=\"1\" class=\"dataframe\">\n",
       "  <thead>\n",
       "    <tr style=\"text-align: right;\">\n",
       "      <th></th>\n",
       "      <th>0.07%</th>\n",
       "      <th>% of Shares Held by All Insider</th>\n",
       "    </tr>\n",
       "  </thead>\n",
       "  <tbody>\n",
       "    <tr>\n",
       "      <th>0</th>\n",
       "      <td>62.12%</td>\n",
       "      <td>% of Shares Held by Institutions</td>\n",
       "    </tr>\n",
       "    <tr>\n",
       "      <th>1</th>\n",
       "      <td>62.16%</td>\n",
       "      <td>% of Float Held by Institutions</td>\n",
       "    </tr>\n",
       "    <tr>\n",
       "      <th>2</th>\n",
       "      <td>4296</td>\n",
       "      <td>Number of Institutions Holding Shares</td>\n",
       "    </tr>\n",
       "  </tbody>\n",
       "</table>\n",
       "</div>"
      ],
      "text/plain": [
       "    0.07%        % of Shares Held by All Insider\n",
       "0  62.12%       % of Shares Held by Institutions\n",
       "1  62.16%        % of Float Held by Institutions\n",
       "2    4296  Number of Institutions Holding Shares"
      ]
     },
     "execution_count": 12,
     "metadata": {},
     "output_type": "execute_result"
    }
   ],
   "source": [
    "apple_holders['Major Holders']"
   ]
  },
  {
   "cell_type": "code",
   "execution_count": 13,
   "metadata": {},
   "outputs": [
    {
     "data": {
      "text/html": [
       "<div>\n",
       "<style scoped>\n",
       "    .dataframe tbody tr th:only-of-type {\n",
       "        vertical-align: middle;\n",
       "    }\n",
       "\n",
       "    .dataframe tbody tr th {\n",
       "        vertical-align: top;\n",
       "    }\n",
       "\n",
       "    .dataframe thead th {\n",
       "        text-align: right;\n",
       "    }\n",
       "</style>\n",
       "<table border=\"1\" class=\"dataframe\">\n",
       "  <thead>\n",
       "    <tr style=\"text-align: right;\">\n",
       "      <th></th>\n",
       "      <th>Holder</th>\n",
       "      <th>Shares</th>\n",
       "      <th>Date Reported</th>\n",
       "      <th>% Out</th>\n",
       "      <th>Value</th>\n",
       "    </tr>\n",
       "  </thead>\n",
       "  <tbody>\n",
       "    <tr>\n",
       "      <th>0</th>\n",
       "      <td>Vanguard Group, Inc. (The)</td>\n",
       "      <td>328990250</td>\n",
       "      <td>Jun 29, 2020</td>\n",
       "      <td>7.69%</td>\n",
       "      <td>120015643200</td>\n",
       "    </tr>\n",
       "    <tr>\n",
       "      <th>1</th>\n",
       "      <td>Blackrock Inc.</td>\n",
       "      <td>275456012</td>\n",
       "      <td>Jun 29, 2020</td>\n",
       "      <td>6.44%</td>\n",
       "      <td>100486353177</td>\n",
       "    </tr>\n",
       "    <tr>\n",
       "      <th>2</th>\n",
       "      <td>Berkshire Hathaway, Inc</td>\n",
       "      <td>245155566</td>\n",
       "      <td>Jun 29, 2020</td>\n",
       "      <td>5.73%</td>\n",
       "      <td>89432750476</td>\n",
       "    </tr>\n",
       "    <tr>\n",
       "      <th>3</th>\n",
       "      <td>State Street Corporation</td>\n",
       "      <td>177264368</td>\n",
       "      <td>Jun 29, 2020</td>\n",
       "      <td>4.15%</td>\n",
       "      <td>64666041446</td>\n",
       "    </tr>\n",
       "    <tr>\n",
       "      <th>4</th>\n",
       "      <td>FMR, LLC</td>\n",
       "      <td>95825047</td>\n",
       "      <td>Jun 29, 2020</td>\n",
       "      <td>2.24%</td>\n",
       "      <td>34956977145</td>\n",
       "    </tr>\n",
       "    <tr>\n",
       "      <th>5</th>\n",
       "      <td>Geode Capital Management, LLC</td>\n",
       "      <td>62923854</td>\n",
       "      <td>Jun 29, 2020</td>\n",
       "      <td>1.47%</td>\n",
       "      <td>22954621939</td>\n",
       "    </tr>\n",
       "    <tr>\n",
       "      <th>6</th>\n",
       "      <td>Price (T.Rowe) Associates Inc</td>\n",
       "      <td>58271885</td>\n",
       "      <td>Jun 29, 2020</td>\n",
       "      <td>1.36%</td>\n",
       "      <td>21257583648</td>\n",
       "    </tr>\n",
       "    <tr>\n",
       "      <th>7</th>\n",
       "      <td>Northern Trust Corporation</td>\n",
       "      <td>53536023</td>\n",
       "      <td>Jun 29, 2020</td>\n",
       "      <td>1.25%</td>\n",
       "      <td>19529941190</td>\n",
       "    </tr>\n",
       "    <tr>\n",
       "      <th>8</th>\n",
       "      <td>Norges Bank Investment Management</td>\n",
       "      <td>46856273</td>\n",
       "      <td>Dec 30, 2019</td>\n",
       "      <td>1.10%</td>\n",
       "      <td>13759344566</td>\n",
       "    </tr>\n",
       "    <tr>\n",
       "      <th>9</th>\n",
       "      <td>Bank Of New York Mellon Corporation</td>\n",
       "      <td>42804896</td>\n",
       "      <td>Jun 29, 2020</td>\n",
       "      <td>1.00%</td>\n",
       "      <td>15615226060</td>\n",
       "    </tr>\n",
       "  </tbody>\n",
       "</table>\n",
       "</div>"
      ],
      "text/plain": [
       "                                Holder     Shares Date Reported  % Out  \\\n",
       "0           Vanguard Group, Inc. (The)  328990250  Jun 29, 2020  7.69%   \n",
       "1                       Blackrock Inc.  275456012  Jun 29, 2020  6.44%   \n",
       "2              Berkshire Hathaway, Inc  245155566  Jun 29, 2020  5.73%   \n",
       "3             State Street Corporation  177264368  Jun 29, 2020  4.15%   \n",
       "4                             FMR, LLC   95825047  Jun 29, 2020  2.24%   \n",
       "5        Geode Capital Management, LLC   62923854  Jun 29, 2020  1.47%   \n",
       "6        Price (T.Rowe) Associates Inc   58271885  Jun 29, 2020  1.36%   \n",
       "7           Northern Trust Corporation   53536023  Jun 29, 2020  1.25%   \n",
       "8    Norges Bank Investment Management   46856273  Dec 30, 2019  1.10%   \n",
       "9  Bank Of New York Mellon Corporation   42804896  Jun 29, 2020  1.00%   \n",
       "\n",
       "          Value  \n",
       "0  120015643200  \n",
       "1  100486353177  \n",
       "2   89432750476  \n",
       "3   64666041446  \n",
       "4   34956977145  \n",
       "5   22954621939  \n",
       "6   21257583648  \n",
       "7   19529941190  \n",
       "8   13759344566  \n",
       "9   15615226060  "
      ]
     },
     "execution_count": 13,
     "metadata": {},
     "output_type": "execute_result"
    }
   ],
   "source": [
    "apple_holders['Direct Holders (Forms 3 and 4)']"
   ]
  },
  {
   "cell_type": "code",
   "execution_count": 14,
   "metadata": {},
   "outputs": [
    {
     "data": {
      "text/html": [
       "<div>\n",
       "<style scoped>\n",
       "    .dataframe tbody tr th:only-of-type {\n",
       "        vertical-align: middle;\n",
       "    }\n",
       "\n",
       "    .dataframe tbody tr th {\n",
       "        vertical-align: top;\n",
       "    }\n",
       "\n",
       "    .dataframe thead th {\n",
       "        text-align: right;\n",
       "    }\n",
       "</style>\n",
       "<table border=\"1\" class=\"dataframe\">\n",
       "  <thead>\n",
       "    <tr style=\"text-align: right;\">\n",
       "      <th></th>\n",
       "      <th>Holder</th>\n",
       "      <th>Shares</th>\n",
       "      <th>Date Reported</th>\n",
       "      <th>% Out</th>\n",
       "      <th>Value</th>\n",
       "    </tr>\n",
       "  </thead>\n",
       "  <tbody>\n",
       "    <tr>\n",
       "      <th>0</th>\n",
       "      <td>Vanguard Total Stock Market Index Fund</td>\n",
       "      <td>117298701</td>\n",
       "      <td>Mar 30, 2020</td>\n",
       "      <td>2.74%</td>\n",
       "      <td>29827886677</td>\n",
       "    </tr>\n",
       "    <tr>\n",
       "      <th>1</th>\n",
       "      <td>Vanguard 500 Index Fund</td>\n",
       "      <td>85980468</td>\n",
       "      <td>Mar 30, 2020</td>\n",
       "      <td>2.01%</td>\n",
       "      <td>21863973207</td>\n",
       "    </tr>\n",
       "    <tr>\n",
       "      <th>2</th>\n",
       "      <td>SPDR S&amp;P 500 ETF Trust</td>\n",
       "      <td>44553380</td>\n",
       "      <td>May 30, 2020</td>\n",
       "      <td>1.04%</td>\n",
       "      <td>14165301637</td>\n",
       "    </tr>\n",
       "    <tr>\n",
       "      <th>3</th>\n",
       "      <td>Invesco ETF Tr-Invesco QQQ Tr, Series 1 ETF</td>\n",
       "      <td>38712448</td>\n",
       "      <td>May 30, 2020</td>\n",
       "      <td>0.91%</td>\n",
       "      <td>12308235717</td>\n",
       "    </tr>\n",
       "    <tr>\n",
       "      <th>4</th>\n",
       "      <td>Vanguard Institutional Index Fund-Institutiona...</td>\n",
       "      <td>36959990</td>\n",
       "      <td>Mar 30, 2020</td>\n",
       "      <td>0.86%</td>\n",
       "      <td>9398555857</td>\n",
       "    </tr>\n",
       "    <tr>\n",
       "      <th>5</th>\n",
       "      <td>Fidelity 500 Index Fund</td>\n",
       "      <td>36919886</td>\n",
       "      <td>May 30, 2020</td>\n",
       "      <td>0.86%</td>\n",
       "      <td>11738308554</td>\n",
       "    </tr>\n",
       "    <tr>\n",
       "      <th>6</th>\n",
       "      <td>iShares Core S&amp;P 500 ETF</td>\n",
       "      <td>31473783</td>\n",
       "      <td>Apr 29, 2020</td>\n",
       "      <td>0.74%</td>\n",
       "      <td>9246997445</td>\n",
       "    </tr>\n",
       "    <tr>\n",
       "      <th>7</th>\n",
       "      <td>Vanguard Growth Index Fund</td>\n",
       "      <td>30336895</td>\n",
       "      <td>Mar 30, 2020</td>\n",
       "      <td>0.71%</td>\n",
       "      <td>7714369029</td>\n",
       "    </tr>\n",
       "    <tr>\n",
       "      <th>8</th>\n",
       "      <td>Vanguard Information Technology Index Fund</td>\n",
       "      <td>19861441</td>\n",
       "      <td>May 30, 2020</td>\n",
       "      <td>0.46%</td>\n",
       "      <td>6314746551</td>\n",
       "    </tr>\n",
       "    <tr>\n",
       "      <th>9</th>\n",
       "      <td>Select Sector SPDR Fund-Technology</td>\n",
       "      <td>18642268</td>\n",
       "      <td>May 30, 2020</td>\n",
       "      <td>0.44%</td>\n",
       "      <td>5927122687</td>\n",
       "    </tr>\n",
       "  </tbody>\n",
       "</table>\n",
       "</div>"
      ],
      "text/plain": [
       "                                              Holder     Shares Date Reported  \\\n",
       "0             Vanguard Total Stock Market Index Fund  117298701  Mar 30, 2020   \n",
       "1                            Vanguard 500 Index Fund   85980468  Mar 30, 2020   \n",
       "2                             SPDR S&P 500 ETF Trust   44553380  May 30, 2020   \n",
       "3        Invesco ETF Tr-Invesco QQQ Tr, Series 1 ETF   38712448  May 30, 2020   \n",
       "4  Vanguard Institutional Index Fund-Institutiona...   36959990  Mar 30, 2020   \n",
       "5                            Fidelity 500 Index Fund   36919886  May 30, 2020   \n",
       "6                           iShares Core S&P 500 ETF   31473783  Apr 29, 2020   \n",
       "7                         Vanguard Growth Index Fund   30336895  Mar 30, 2020   \n",
       "8         Vanguard Information Technology Index Fund   19861441  May 30, 2020   \n",
       "9                 Select Sector SPDR Fund-Technology   18642268  May 30, 2020   \n",
       "\n",
       "   % Out        Value  \n",
       "0  2.74%  29827886677  \n",
       "1  2.01%  21863973207  \n",
       "2  1.04%  14165301637  \n",
       "3  0.91%  12308235717  \n",
       "4  0.86%   9398555857  \n",
       "5  0.86%  11738308554  \n",
       "6  0.74%   9246997445  \n",
       "7  0.71%   7714369029  \n",
       "8  0.46%   6314746551  \n",
       "9  0.44%   5927122687  "
      ]
     },
     "execution_count": 14,
     "metadata": {},
     "output_type": "execute_result"
    }
   ],
   "source": [
    "apple_holders['Top Institutional Holders']"
   ]
  },
  {
   "cell_type": "markdown",
   "metadata": {},
   "source": [
    "### Do these holders own stock in other DJIA companies?\n",
    "\n",
    "First, let's look just at the Vanguard Group, Inc."
   ]
  },
  {
   "cell_type": "code",
   "execution_count": 11,
   "metadata": {},
   "outputs": [
    {
     "data": {
      "text/html": [
       "<div>\n",
       "<style scoped>\n",
       "    .dataframe tbody tr th:only-of-type {\n",
       "        vertical-align: middle;\n",
       "    }\n",
       "\n",
       "    .dataframe tbody tr th {\n",
       "        vertical-align: top;\n",
       "    }\n",
       "\n",
       "    .dataframe thead th {\n",
       "        text-align: right;\n",
       "    }\n",
       "</style>\n",
       "<table border=\"1\" class=\"dataframe\">\n",
       "  <thead>\n",
       "    <tr style=\"text-align: right;\">\n",
       "      <th></th>\n",
       "      <th>Company</th>\n",
       "    </tr>\n",
       "  </thead>\n",
       "  <tbody>\n",
       "    <tr>\n",
       "      <th>0</th>\n",
       "      <td>Apple Inc.</td>\n",
       "    </tr>\n",
       "    <tr>\n",
       "      <th>1</th>\n",
       "      <td>American Express Company</td>\n",
       "    </tr>\n",
       "    <tr>\n",
       "      <th>2</th>\n",
       "      <td>The Boeing Company</td>\n",
       "    </tr>\n",
       "    <tr>\n",
       "      <th>3</th>\n",
       "      <td>Caterpillar Inc.</td>\n",
       "    </tr>\n",
       "    <tr>\n",
       "      <th>4</th>\n",
       "      <td>Cisco Systems, Inc.</td>\n",
       "    </tr>\n",
       "    <tr>\n",
       "      <th>5</th>\n",
       "      <td>Chevron Corporation</td>\n",
       "    </tr>\n",
       "    <tr>\n",
       "      <th>6</th>\n",
       "      <td>The Walt Disney Company</td>\n",
       "    </tr>\n",
       "    <tr>\n",
       "      <th>7</th>\n",
       "      <td>Dow Inc.</td>\n",
       "    </tr>\n",
       "    <tr>\n",
       "      <th>8</th>\n",
       "      <td>The Goldman Sachs Group, Inc.</td>\n",
       "    </tr>\n",
       "    <tr>\n",
       "      <th>9</th>\n",
       "      <td>The Home Depot, Inc.</td>\n",
       "    </tr>\n",
       "    <tr>\n",
       "      <th>10</th>\n",
       "      <td>International Business Machines Corporation</td>\n",
       "    </tr>\n",
       "    <tr>\n",
       "      <th>11</th>\n",
       "      <td>Intel Corporation</td>\n",
       "    </tr>\n",
       "    <tr>\n",
       "      <th>12</th>\n",
       "      <td>Johnson &amp; Johnson</td>\n",
       "    </tr>\n",
       "    <tr>\n",
       "      <th>13</th>\n",
       "      <td>JPMorgan Chase &amp; Co.</td>\n",
       "    </tr>\n",
       "    <tr>\n",
       "      <th>14</th>\n",
       "      <td>The Coca-Cola Company</td>\n",
       "    </tr>\n",
       "    <tr>\n",
       "      <th>15</th>\n",
       "      <td>McDonald's Corporation</td>\n",
       "    </tr>\n",
       "    <tr>\n",
       "      <th>16</th>\n",
       "      <td>3M Company</td>\n",
       "    </tr>\n",
       "    <tr>\n",
       "      <th>17</th>\n",
       "      <td>Merck &amp; Co., Inc.</td>\n",
       "    </tr>\n",
       "    <tr>\n",
       "      <th>18</th>\n",
       "      <td>Microsoft Corporation</td>\n",
       "    </tr>\n",
       "    <tr>\n",
       "      <th>19</th>\n",
       "      <td>NIKE, Inc.</td>\n",
       "    </tr>\n",
       "    <tr>\n",
       "      <th>20</th>\n",
       "      <td>Pfizer Inc.</td>\n",
       "    </tr>\n",
       "    <tr>\n",
       "      <th>21</th>\n",
       "      <td>The Procter &amp; Gamble Company</td>\n",
       "    </tr>\n",
       "    <tr>\n",
       "      <th>22</th>\n",
       "      <td>Raytheon Technologies Corporation</td>\n",
       "    </tr>\n",
       "    <tr>\n",
       "      <th>23</th>\n",
       "      <td>The Travelers Companies, Inc.</td>\n",
       "    </tr>\n",
       "    <tr>\n",
       "      <th>24</th>\n",
       "      <td>UnitedHealth Group Incorporated</td>\n",
       "    </tr>\n",
       "    <tr>\n",
       "      <th>25</th>\n",
       "      <td>Visa Inc.</td>\n",
       "    </tr>\n",
       "    <tr>\n",
       "      <th>26</th>\n",
       "      <td>Verizon Communications Inc.</td>\n",
       "    </tr>\n",
       "    <tr>\n",
       "      <th>27</th>\n",
       "      <td>Walgreens Boots Alliance, Inc.</td>\n",
       "    </tr>\n",
       "    <tr>\n",
       "      <th>28</th>\n",
       "      <td>Walmart Inc.</td>\n",
       "    </tr>\n",
       "    <tr>\n",
       "      <th>29</th>\n",
       "      <td>Exxon Mobil Corporation</td>\n",
       "    </tr>\n",
       "  </tbody>\n",
       "</table>\n",
       "</div>"
      ],
      "text/plain": [
       "                                        Company\n",
       "0                                    Apple Inc.\n",
       "1                      American Express Company\n",
       "2                            The Boeing Company\n",
       "3                              Caterpillar Inc.\n",
       "4                           Cisco Systems, Inc.\n",
       "5                           Chevron Corporation\n",
       "6                       The Walt Disney Company\n",
       "7                                      Dow Inc.\n",
       "8                 The Goldman Sachs Group, Inc.\n",
       "9                          The Home Depot, Inc.\n",
       "10  International Business Machines Corporation\n",
       "11                            Intel Corporation\n",
       "12                            Johnson & Johnson\n",
       "13                         JPMorgan Chase & Co.\n",
       "14                        The Coca-Cola Company\n",
       "15                       McDonald's Corporation\n",
       "16                                   3M Company\n",
       "17                            Merck & Co., Inc.\n",
       "18                        Microsoft Corporation\n",
       "19                                   NIKE, Inc.\n",
       "20                                  Pfizer Inc.\n",
       "21                 The Procter & Gamble Company\n",
       "22            Raytheon Technologies Corporation\n",
       "23                The Travelers Companies, Inc.\n",
       "24              UnitedHealth Group Incorporated\n",
       "25                                    Visa Inc.\n",
       "26                  Verizon Communications Inc.\n",
       "27               Walgreens Boots Alliance, Inc.\n",
       "28                                 Walmart Inc.\n",
       "29                      Exxon Mobil Corporation"
      ]
     },
     "execution_count": 11,
     "metadata": {},
     "output_type": "execute_result"
    }
   ],
   "source": [
    "comp = []\n",
    "for i in dow_list:\n",
    "    comp.append(get_symbol(i))\n",
    "compdf = pd.DataFrame({'Company':comp})\n",
    "compdf"
   ]
  },
  {
   "cell_type": "code",
   "execution_count": 12,
   "metadata": {},
   "outputs": [
    {
     "data": {
      "text/html": [
       "<div>\n",
       "<style scoped>\n",
       "    .dataframe tbody tr th:only-of-type {\n",
       "        vertical-align: middle;\n",
       "    }\n",
       "\n",
       "    .dataframe tbody tr th {\n",
       "        vertical-align: top;\n",
       "    }\n",
       "\n",
       "    .dataframe thead th {\n",
       "        text-align: right;\n",
       "    }\n",
       "</style>\n",
       "<table border=\"1\" class=\"dataframe\">\n",
       "  <thead>\n",
       "    <tr style=\"text-align: right;\">\n",
       "      <th></th>\n",
       "      <th>Company</th>\n",
       "      <th>Vanguard Group, Inc. (The)</th>\n",
       "    </tr>\n",
       "  </thead>\n",
       "  <tbody>\n",
       "    <tr>\n",
       "      <th>0</th>\n",
       "      <td>Apple Inc.</td>\n",
       "      <td>7.69</td>\n",
       "    </tr>\n",
       "    <tr>\n",
       "      <th>1</th>\n",
       "      <td>American Express Company</td>\n",
       "      <td>6.04</td>\n",
       "    </tr>\n",
       "    <tr>\n",
       "      <th>2</th>\n",
       "      <td>The Boeing Company</td>\n",
       "      <td>7.40</td>\n",
       "    </tr>\n",
       "    <tr>\n",
       "      <th>3</th>\n",
       "      <td>Caterpillar Inc.</td>\n",
       "      <td>8.67</td>\n",
       "    </tr>\n",
       "    <tr>\n",
       "      <th>4</th>\n",
       "      <td>Cisco Systems, Inc.</td>\n",
       "      <td>8.03</td>\n",
       "    </tr>\n",
       "    <tr>\n",
       "      <th>5</th>\n",
       "      <td>Chevron Corporation</td>\n",
       "      <td>0.00</td>\n",
       "    </tr>\n",
       "    <tr>\n",
       "      <th>6</th>\n",
       "      <td>The Walt Disney Company</td>\n",
       "      <td>8.22</td>\n",
       "    </tr>\n",
       "    <tr>\n",
       "      <th>7</th>\n",
       "      <td>Dow Inc.</td>\n",
       "      <td>8.27</td>\n",
       "    </tr>\n",
       "    <tr>\n",
       "      <th>8</th>\n",
       "      <td>The Goldman Sachs Group, Inc.</td>\n",
       "      <td>7.33</td>\n",
       "    </tr>\n",
       "    <tr>\n",
       "      <th>9</th>\n",
       "      <td>The Home Depot, Inc.</td>\n",
       "      <td>8.51</td>\n",
       "    </tr>\n",
       "    <tr>\n",
       "      <th>10</th>\n",
       "      <td>International Business Machines Corporation</td>\n",
       "      <td>8.43</td>\n",
       "    </tr>\n",
       "    <tr>\n",
       "      <th>11</th>\n",
       "      <td>Intel Corporation</td>\n",
       "      <td>8.37</td>\n",
       "    </tr>\n",
       "    <tr>\n",
       "      <th>12</th>\n",
       "      <td>Johnson &amp; Johnson</td>\n",
       "      <td>8.80</td>\n",
       "    </tr>\n",
       "    <tr>\n",
       "      <th>13</th>\n",
       "      <td>JPMorgan Chase &amp; Co.</td>\n",
       "      <td>0.00</td>\n",
       "    </tr>\n",
       "    <tr>\n",
       "      <th>14</th>\n",
       "      <td>The Coca-Cola Company</td>\n",
       "      <td>7.62</td>\n",
       "    </tr>\n",
       "    <tr>\n",
       "      <th>15</th>\n",
       "      <td>McDonald's Corporation</td>\n",
       "      <td>8.90</td>\n",
       "    </tr>\n",
       "    <tr>\n",
       "      <th>16</th>\n",
       "      <td>3M Company</td>\n",
       "      <td>0.00</td>\n",
       "    </tr>\n",
       "    <tr>\n",
       "      <th>17</th>\n",
       "      <td>Merck &amp; Co., Inc.</td>\n",
       "      <td>0.00</td>\n",
       "    </tr>\n",
       "    <tr>\n",
       "      <th>18</th>\n",
       "      <td>Microsoft Corporation</td>\n",
       "      <td>8.46</td>\n",
       "    </tr>\n",
       "    <tr>\n",
       "      <th>19</th>\n",
       "      <td>NIKE, Inc.</td>\n",
       "      <td>8.45</td>\n",
       "    </tr>\n",
       "    <tr>\n",
       "      <th>20</th>\n",
       "      <td>Pfizer Inc.</td>\n",
       "      <td>8.22</td>\n",
       "    </tr>\n",
       "    <tr>\n",
       "      <th>21</th>\n",
       "      <td>The Procter &amp; Gamble Company</td>\n",
       "      <td>8.97</td>\n",
       "    </tr>\n",
       "    <tr>\n",
       "      <th>22</th>\n",
       "      <td>Raytheon Technologies Corporation</td>\n",
       "      <td>8.42</td>\n",
       "    </tr>\n",
       "    <tr>\n",
       "      <th>23</th>\n",
       "      <td>The Travelers Companies, Inc.</td>\n",
       "      <td>0.00</td>\n",
       "    </tr>\n",
       "    <tr>\n",
       "      <th>24</th>\n",
       "      <td>UnitedHealth Group Incorporated</td>\n",
       "      <td>0.00</td>\n",
       "    </tr>\n",
       "    <tr>\n",
       "      <th>25</th>\n",
       "      <td>Visa Inc.</td>\n",
       "      <td>8.73</td>\n",
       "    </tr>\n",
       "    <tr>\n",
       "      <th>26</th>\n",
       "      <td>Verizon Communications Inc.</td>\n",
       "      <td>0.00</td>\n",
       "    </tr>\n",
       "    <tr>\n",
       "      <th>27</th>\n",
       "      <td>Walgreens Boots Alliance, Inc.</td>\n",
       "      <td>8.24</td>\n",
       "    </tr>\n",
       "    <tr>\n",
       "      <th>28</th>\n",
       "      <td>Walmart Inc.</td>\n",
       "      <td>4.77</td>\n",
       "    </tr>\n",
       "    <tr>\n",
       "      <th>29</th>\n",
       "      <td>Exxon Mobil Corporation</td>\n",
       "      <td>0.00</td>\n",
       "    </tr>\n",
       "  </tbody>\n",
       "</table>\n",
       "</div>"
      ],
      "text/plain": [
       "                                        Company  Vanguard Group, Inc. (The)\n",
       "0                                    Apple Inc.                        7.69\n",
       "1                      American Express Company                        6.04\n",
       "2                            The Boeing Company                        7.40\n",
       "3                              Caterpillar Inc.                        8.67\n",
       "4                           Cisco Systems, Inc.                        8.03\n",
       "5                           Chevron Corporation                        0.00\n",
       "6                       The Walt Disney Company                        8.22\n",
       "7                                      Dow Inc.                        8.27\n",
       "8                 The Goldman Sachs Group, Inc.                        7.33\n",
       "9                          The Home Depot, Inc.                        8.51\n",
       "10  International Business Machines Corporation                        8.43\n",
       "11                            Intel Corporation                        8.37\n",
       "12                            Johnson & Johnson                        8.80\n",
       "13                         JPMorgan Chase & Co.                        0.00\n",
       "14                        The Coca-Cola Company                        7.62\n",
       "15                       McDonald's Corporation                        8.90\n",
       "16                                   3M Company                        0.00\n",
       "17                            Merck & Co., Inc.                        0.00\n",
       "18                        Microsoft Corporation                        8.46\n",
       "19                                   NIKE, Inc.                        8.45\n",
       "20                                  Pfizer Inc.                        8.22\n",
       "21                 The Procter & Gamble Company                        8.97\n",
       "22            Raytheon Technologies Corporation                        8.42\n",
       "23                The Travelers Companies, Inc.                        0.00\n",
       "24              UnitedHealth Group Incorporated                        0.00\n",
       "25                                    Visa Inc.                        8.73\n",
       "26                  Verizon Communications Inc.                        0.00\n",
       "27               Walgreens Boots Alliance, Inc.                        8.24\n",
       "28                                 Walmart Inc.                        4.77\n",
       "29                      Exxon Mobil Corporation                        0.00"
      ]
     },
     "execution_count": 12,
     "metadata": {},
     "output_type": "execute_result"
    }
   ],
   "source": [
    "icomp = 'Vanguard Group, Inc. (The)'\n",
    "compdf[icomp] = 0\n",
    "\n",
    "for i in dow_list:\n",
    "\n",
    "    gh = si.get_holders(i)\n",
    "    compdf.loc[compdf['Company']==get_symbol(i),icomp] = 0.00\n",
    "    \n",
    "    if 'Direct Holders (Forms 3 and 4)' in gh.keys():\n",
    "        if icomp in gh['Direct Holders (Forms 3 and 4)'].values:\n",
    "            ghdf = gh['Direct Holders (Forms 3 and 4)']\n",
    "            compdf.loc[compdf['Company']==get_symbol(i),icomp] = float(\n",
    "                ghdf[ghdf['Holder']==icomp]['% Out'].iloc[0].replace('%',''))\n",
    "\n",
    "compdf"
   ]
  },
  {
   "cell_type": "code",
   "execution_count": 13,
   "metadata": {},
   "outputs": [
    {
     "data": {
      "image/png": "[encoded data removed]",
      "text/plain": [
       "<Figure size 504x504 with 1 Axes>"
      ]
     },
     "metadata": {
      "needs_background": "light"
     },
     "output_type": "display_data"
    }
   ],
   "source": [
    "compdf.sort_values('Vanguard Group, Inc. (The)').plot.barh(x='Company',y='Vanguard Group, Inc. (The)',figsize=(7,7));"
   ]
  },
  {
   "cell_type": "markdown",
   "metadata": {},
   "source": [
    "The top 6 holders of Apple:"
   ]
  },
  {
   "cell_type": "code",
   "execution_count": 14,
   "metadata": {},
   "outputs": [
    {
     "data": {
      "text/plain": [
       "array(['Vanguard Group, Inc. (The)', 'Blackrock Inc.',\n",
       "       'Berkshire Hathaway, Inc', 'State Street Corporation',\n",
       "       'Advisor Group, Inc.', 'FMR, LLC'], dtype=object)"
      ]
     },
     "execution_count": 14,
     "metadata": {},
     "output_type": "execute_result"
    }
   ],
   "source": [
    "top6 = apple_holders['Direct Holders (Forms 3 and 4)'].iloc[:6]['Holder'].values[:6]\n",
    "top6"
   ]
  },
  {
   "cell_type": "code",
   "execution_count": 15,
   "metadata": {},
   "outputs": [],
   "source": [
    "for h in top6:\n",
    "    compdf[h] = 0\n",
    "    \n",
    "for i in dow_list:\n",
    "    gh = si.get_holders(i)\n",
    "    if 'Direct Holders (Forms 3 and 4)' in gh.keys():\n",
    "        compname = get_symbol(i)\n",
    "        for h in top6:            \n",
    "            if h in gh['Direct Holders (Forms 3 and 4)'].values:\n",
    "                ghdf = gh['Direct Holders (Forms 3 and 4)']\n",
    "                compdf.loc[compdf['Company']==compname,h] = float(\n",
    "                    ghdf[ghdf['Holder']==h]['% Out'].iloc[0].replace('%',''))"
   ]
  },
  {
   "cell_type": "code",
   "execution_count": 16,
   "metadata": {},
   "outputs": [
    {
     "data": {
      "text/html": [
       "<div>\n",
       "<style scoped>\n",
       "    .dataframe tbody tr th:only-of-type {\n",
       "        vertical-align: middle;\n",
       "    }\n",
       "\n",
       "    .dataframe tbody tr th {\n",
       "        vertical-align: top;\n",
       "    }\n",
       "\n",
       "    .dataframe thead th {\n",
       "        text-align: right;\n",
       "    }\n",
       "</style>\n",
       "<table border=\"1\" class=\"dataframe\">\n",
       "  <thead>\n",
       "    <tr style=\"text-align: right;\">\n",
       "      <th></th>\n",
       "      <th>Company</th>\n",
       "      <th>Vanguard Group, Inc. (The)</th>\n",
       "      <th>Blackrock Inc.</th>\n",
       "      <th>Berkshire Hathaway, Inc</th>\n",
       "      <th>State Street Corporation</th>\n",
       "      <th>Advisor Group, Inc.</th>\n",
       "      <th>FMR, LLC</th>\n",
       "    </tr>\n",
       "  </thead>\n",
       "  <tbody>\n",
       "    <tr>\n",
       "      <th>0</th>\n",
       "      <td>Apple Inc.</td>\n",
       "      <td>7.88</td>\n",
       "      <td>6.42</td>\n",
       "      <td>5.73</td>\n",
       "      <td>4.22</td>\n",
       "      <td>2.73</td>\n",
       "      <td>2.18</td>\n",
       "    </tr>\n",
       "    <tr>\n",
       "      <th>1</th>\n",
       "      <td>American Express Company</td>\n",
       "      <td>6.26</td>\n",
       "      <td>5.33</td>\n",
       "      <td>18.83</td>\n",
       "      <td>4.23</td>\n",
       "      <td>0.00</td>\n",
       "      <td>2.38</td>\n",
       "    </tr>\n",
       "    <tr>\n",
       "      <th>2</th>\n",
       "      <td>The Boeing Company</td>\n",
       "      <td>7.40</td>\n",
       "      <td>5.89</td>\n",
       "      <td>0.00</td>\n",
       "      <td>4.63</td>\n",
       "      <td>0.00</td>\n",
       "      <td>0.00</td>\n",
       "    </tr>\n",
       "    <tr>\n",
       "      <th>3</th>\n",
       "      <td>Caterpillar Inc.</td>\n",
       "      <td>9.26</td>\n",
       "      <td>6.43</td>\n",
       "      <td>0.00</td>\n",
       "      <td>8.22</td>\n",
       "      <td>0.00</td>\n",
       "      <td>0.00</td>\n",
       "    </tr>\n",
       "    <tr>\n",
       "      <th>4</th>\n",
       "      <td>Cisco Systems, Inc.</td>\n",
       "      <td>8.58</td>\n",
       "      <td>7.65</td>\n",
       "      <td>0.00</td>\n",
       "      <td>4.40</td>\n",
       "      <td>0.00</td>\n",
       "      <td>0.00</td>\n",
       "    </tr>\n",
       "    <tr>\n",
       "      <th>5</th>\n",
       "      <td>Chevron Corporation</td>\n",
       "      <td>0.00</td>\n",
       "      <td>0.00</td>\n",
       "      <td>0.00</td>\n",
       "      <td>0.00</td>\n",
       "      <td>0.00</td>\n",
       "      <td>0.00</td>\n",
       "    </tr>\n",
       "    <tr>\n",
       "      <th>6</th>\n",
       "      <td>The Walt Disney Company</td>\n",
       "      <td>7.63</td>\n",
       "      <td>6.34</td>\n",
       "      <td>0.00</td>\n",
       "      <td>4.15</td>\n",
       "      <td>0.00</td>\n",
       "      <td>1.30</td>\n",
       "    </tr>\n",
       "    <tr>\n",
       "      <th>7</th>\n",
       "      <td>Dow Inc.</td>\n",
       "      <td>8.37</td>\n",
       "      <td>6.15</td>\n",
       "      <td>0.00</td>\n",
       "      <td>4.86</td>\n",
       "      <td>0.00</td>\n",
       "      <td>0.00</td>\n",
       "    </tr>\n",
       "    <tr>\n",
       "      <th>8</th>\n",
       "      <td>The Goldman Sachs Group, Inc.</td>\n",
       "      <td>7.44</td>\n",
       "      <td>5.70</td>\n",
       "      <td>0.00</td>\n",
       "      <td>5.75</td>\n",
       "      <td>0.00</td>\n",
       "      <td>0.00</td>\n",
       "    </tr>\n",
       "    <tr>\n",
       "      <th>9</th>\n",
       "      <td>The Home Depot, Inc.</td>\n",
       "      <td>7.98</td>\n",
       "      <td>6.67</td>\n",
       "      <td>0.00</td>\n",
       "      <td>4.83</td>\n",
       "      <td>0.00</td>\n",
       "      <td>1.73</td>\n",
       "    </tr>\n",
       "    <tr>\n",
       "      <th>10</th>\n",
       "      <td>International Business Machines Corporation</td>\n",
       "      <td>8.53</td>\n",
       "      <td>6.97</td>\n",
       "      <td>0.00</td>\n",
       "      <td>6.11</td>\n",
       "      <td>0.00</td>\n",
       "      <td>0.00</td>\n",
       "    </tr>\n",
       "    <tr>\n",
       "      <th>11</th>\n",
       "      <td>Intel Corporation</td>\n",
       "      <td>8.70</td>\n",
       "      <td>7.32</td>\n",
       "      <td>0.00</td>\n",
       "      <td>4.53</td>\n",
       "      <td>0.00</td>\n",
       "      <td>0.00</td>\n",
       "    </tr>\n",
       "    <tr>\n",
       "      <th>12</th>\n",
       "      <td>Johnson &amp; Johnson</td>\n",
       "      <td>8.88</td>\n",
       "      <td>7.31</td>\n",
       "      <td>0.00</td>\n",
       "      <td>5.76</td>\n",
       "      <td>0.00</td>\n",
       "      <td>0.00</td>\n",
       "    </tr>\n",
       "    <tr>\n",
       "      <th>13</th>\n",
       "      <td>JPMorgan Chase &amp; Co.</td>\n",
       "      <td>0.00</td>\n",
       "      <td>0.00</td>\n",
       "      <td>0.00</td>\n",
       "      <td>0.00</td>\n",
       "      <td>0.00</td>\n",
       "      <td>0.00</td>\n",
       "    </tr>\n",
       "    <tr>\n",
       "      <th>14</th>\n",
       "      <td>The Coca-Cola Company</td>\n",
       "      <td>7.62</td>\n",
       "      <td>6.50</td>\n",
       "      <td>9.31</td>\n",
       "      <td>4.27</td>\n",
       "      <td>0.00</td>\n",
       "      <td>1.29</td>\n",
       "    </tr>\n",
       "    <tr>\n",
       "      <th>15</th>\n",
       "      <td>McDonald's Corporation</td>\n",
       "      <td>9.34</td>\n",
       "      <td>7.14</td>\n",
       "      <td>0.00</td>\n",
       "      <td>5.25</td>\n",
       "      <td>0.00</td>\n",
       "      <td>1.47</td>\n",
       "    </tr>\n",
       "    <tr>\n",
       "      <th>16</th>\n",
       "      <td>3M Company</td>\n",
       "      <td>0.00</td>\n",
       "      <td>0.00</td>\n",
       "      <td>0.00</td>\n",
       "      <td>0.00</td>\n",
       "      <td>0.00</td>\n",
       "      <td>0.00</td>\n",
       "    </tr>\n",
       "    <tr>\n",
       "      <th>17</th>\n",
       "      <td>Merck &amp; Co., Inc.</td>\n",
       "      <td>0.00</td>\n",
       "      <td>0.00</td>\n",
       "      <td>0.00</td>\n",
       "      <td>0.00</td>\n",
       "      <td>0.00</td>\n",
       "      <td>0.00</td>\n",
       "    </tr>\n",
       "    <tr>\n",
       "      <th>18</th>\n",
       "      <td>Microsoft Corporation</td>\n",
       "      <td>8.46</td>\n",
       "      <td>6.84</td>\n",
       "      <td>0.00</td>\n",
       "      <td>4.16</td>\n",
       "      <td>0.00</td>\n",
       "      <td>3.14</td>\n",
       "    </tr>\n",
       "    <tr>\n",
       "      <th>19</th>\n",
       "      <td>NIKE, Inc.</td>\n",
       "      <td>8.77</td>\n",
       "      <td>7.31</td>\n",
       "      <td>0.00</td>\n",
       "      <td>4.71</td>\n",
       "      <td>0.00</td>\n",
       "      <td>2.49</td>\n",
       "    </tr>\n",
       "    <tr>\n",
       "      <th>20</th>\n",
       "      <td>Pfizer Inc.</td>\n",
       "      <td>8.31</td>\n",
       "      <td>7.63</td>\n",
       "      <td>0.00</td>\n",
       "      <td>5.27</td>\n",
       "      <td>0.00</td>\n",
       "      <td>0.00</td>\n",
       "    </tr>\n",
       "    <tr>\n",
       "      <th>21</th>\n",
       "      <td>The Procter &amp; Gamble Company</td>\n",
       "      <td>9.22</td>\n",
       "      <td>6.62</td>\n",
       "      <td>0.00</td>\n",
       "      <td>4.76</td>\n",
       "      <td>0.00</td>\n",
       "      <td>0.00</td>\n",
       "    </tr>\n",
       "    <tr>\n",
       "      <th>22</th>\n",
       "      <td>Raytheon Technologies Corporation</td>\n",
       "      <td>4.73</td>\n",
       "      <td>3.53</td>\n",
       "      <td>0.00</td>\n",
       "      <td>5.93</td>\n",
       "      <td>0.00</td>\n",
       "      <td>0.00</td>\n",
       "    </tr>\n",
       "    <tr>\n",
       "      <th>23</th>\n",
       "      <td>The Travelers Companies, Inc.</td>\n",
       "      <td>0.00</td>\n",
       "      <td>0.00</td>\n",
       "      <td>0.00</td>\n",
       "      <td>0.00</td>\n",
       "      <td>0.00</td>\n",
       "      <td>0.00</td>\n",
       "    </tr>\n",
       "    <tr>\n",
       "      <th>24</th>\n",
       "      <td>UnitedHealth Group Incorporated</td>\n",
       "      <td>0.00</td>\n",
       "      <td>0.00</td>\n",
       "      <td>0.00</td>\n",
       "      <td>0.00</td>\n",
       "      <td>0.00</td>\n",
       "      <td>0.00</td>\n",
       "    </tr>\n",
       "    <tr>\n",
       "      <th>25</th>\n",
       "      <td>Visa Inc.</td>\n",
       "      <td>9.01</td>\n",
       "      <td>7.32</td>\n",
       "      <td>0.00</td>\n",
       "      <td>4.58</td>\n",
       "      <td>0.00</td>\n",
       "      <td>4.99</td>\n",
       "    </tr>\n",
       "    <tr>\n",
       "      <th>26</th>\n",
       "      <td>Verizon Communications Inc.</td>\n",
       "      <td>0.00</td>\n",
       "      <td>0.00</td>\n",
       "      <td>0.00</td>\n",
       "      <td>0.00</td>\n",
       "      <td>0.00</td>\n",
       "      <td>0.00</td>\n",
       "    </tr>\n",
       "    <tr>\n",
       "      <th>27</th>\n",
       "      <td>Walgreens Boots Alliance, Inc.</td>\n",
       "      <td>8.24</td>\n",
       "      <td>5.80</td>\n",
       "      <td>0.00</td>\n",
       "      <td>5.39</td>\n",
       "      <td>0.00</td>\n",
       "      <td>1.42</td>\n",
       "    </tr>\n",
       "    <tr>\n",
       "      <th>28</th>\n",
       "      <td>Walmart Inc.</td>\n",
       "      <td>4.86</td>\n",
       "      <td>3.18</td>\n",
       "      <td>0.00</td>\n",
       "      <td>2.50</td>\n",
       "      <td>0.00</td>\n",
       "      <td>0.81</td>\n",
       "    </tr>\n",
       "    <tr>\n",
       "      <th>29</th>\n",
       "      <td>Exxon Mobil Corporation</td>\n",
       "      <td>0.00</td>\n",
       "      <td>0.00</td>\n",
       "      <td>0.00</td>\n",
       "      <td>0.00</td>\n",
       "      <td>0.00</td>\n",
       "      <td>0.00</td>\n",
       "    </tr>\n",
       "  </tbody>\n",
       "</table>\n",
       "</div>"
      ],
      "text/plain": [
       "                                        Company  Vanguard Group, Inc. (The)  \\\n",
       "0                                    Apple Inc.                        7.88   \n",
       "1                      American Express Company                        6.26   \n",
       "2                            The Boeing Company                        7.40   \n",
       "3                              Caterpillar Inc.                        9.26   \n",
       "4                           Cisco Systems, Inc.                        8.58   \n",
       "5                           Chevron Corporation                        0.00   \n",
       "6                       The Walt Disney Company                        7.63   \n",
       "7                                      Dow Inc.                        8.37   \n",
       "8                 The Goldman Sachs Group, Inc.                        7.44   \n",
       "9                          The Home Depot, Inc.                        7.98   \n",
       "10  International Business Machines Corporation                        8.53   \n",
       "11                            Intel Corporation                        8.70   \n",
       "12                            Johnson & Johnson                        8.88   \n",
       "13                         JPMorgan Chase & Co.                        0.00   \n",
       "14                        The Coca-Cola Company                        7.62   \n",
       "15                       McDonald's Corporation                        9.34   \n",
       "16                                   3M Company                        0.00   \n",
       "17                            Merck & Co., Inc.                        0.00   \n",
       "18                        Microsoft Corporation                        8.46   \n",
       "19                                   NIKE, Inc.                        8.77   \n",
       "20                                  Pfizer Inc.                        8.31   \n",
       "21                 The Procter & Gamble Company                        9.22   \n",
       "22            Raytheon Technologies Corporation                        4.73   \n",
       "23                The Travelers Companies, Inc.                        0.00   \n",
       "24              UnitedHealth Group Incorporated                        0.00   \n",
       "25                                    Visa Inc.                        9.01   \n",
       "26                  Verizon Communications Inc.                        0.00   \n",
       "27               Walgreens Boots Alliance, Inc.                        8.24   \n",
       "28                                 Walmart Inc.                        4.86   \n",
       "29                      Exxon Mobil Corporation                        0.00   \n",
       "\n",
       "    Blackrock Inc.  Berkshire Hathaway, Inc  State Street Corporation  \\\n",
       "0             6.42                     5.73                      4.22   \n",
       "1             5.33                    18.83                      4.23   \n",
       "2             5.89                     0.00                      4.63   \n",
       "3             6.43                     0.00                      8.22   \n",
       "4             7.65                     0.00                      4.40   \n",
       "5             0.00                     0.00                      0.00   \n",
       "6             6.34                     0.00                      4.15   \n",
       "7             6.15                     0.00                      4.86   \n",
       "8             5.70                     0.00                      5.75   \n",
       "9             6.67                     0.00                      4.83   \n",
       "10            6.97                     0.00                      6.11   \n",
       "11            7.32                     0.00                      4.53   \n",
       "12            7.31                     0.00                      5.76   \n",
       "13            0.00                     0.00                      0.00   \n",
       "14            6.50                     9.31                      4.27   \n",
       "15            7.14                     0.00                      5.25   \n",
       "16            0.00                     0.00                      0.00   \n",
       "17            0.00                     0.00                      0.00   \n",
       "18            6.84                     0.00                      4.16   \n",
       "19            7.31                     0.00                      4.71   \n",
       "20            7.63                     0.00                      5.27   \n",
       "21            6.62                     0.00                      4.76   \n",
       "22            3.53                     0.00                      5.93   \n",
       "23            0.00                     0.00                      0.00   \n",
       "24            0.00                     0.00                      0.00   \n",
       "25            7.32                     0.00                      4.58   \n",
       "26            0.00                     0.00                      0.00   \n",
       "27            5.80                     0.00                      5.39   \n",
       "28            3.18                     0.00                      2.50   \n",
       "29            0.00                     0.00                      0.00   \n",
       "\n",
       "    Advisor Group, Inc.  FMR, LLC  \n",
       "0                  2.73      2.18  \n",
       "1                  0.00      2.38  \n",
       "2                  0.00      0.00  \n",
       "3                  0.00      0.00  \n",
       "4                  0.00      0.00  \n",
       "5                  0.00      0.00  \n",
       "6                  0.00      1.30  \n",
       "7                  0.00      0.00  \n",
       "8                  0.00      0.00  \n",
       "9                  0.00      1.73  \n",
       "10                 0.00      0.00  \n",
       "11                 0.00      0.00  \n",
       "12                 0.00      0.00  \n",
       "13                 0.00      0.00  \n",
       "14                 0.00      1.29  \n",
       "15                 0.00      1.47  \n",
       "16                 0.00      0.00  \n",
       "17                 0.00      0.00  \n",
       "18                 0.00      3.14  \n",
       "19                 0.00      2.49  \n",
       "20                 0.00      0.00  \n",
       "21                 0.00      0.00  \n",
       "22                 0.00      0.00  \n",
       "23                 0.00      0.00  \n",
       "24                 0.00      0.00  \n",
       "25                 0.00      4.99  \n",
       "26                 0.00      0.00  \n",
       "27                 0.00      1.42  \n",
       "28                 0.00      0.81  \n",
       "29                 0.00      0.00  "
      ]
     },
     "execution_count": 16,
     "metadata": {},
     "output_type": "execute_result"
    }
   ],
   "source": [
    "compdf"
   ]
  },
  {
   "cell_type": "code",
   "execution_count": 17,
   "metadata": {},
   "outputs": [
    {
     "data": {
      "text/plain": [
       "<matplotlib.axes._subplots.AxesSubplot at 0x7fe1204b6340>"
      ]
     },
     "execution_count": 17,
     "metadata": {},
     "output_type": "execute_result"
    },
    {
     "data": {
      "image/png": "[encoded data removed]",
      "text/plain": [
       "<Figure size 720x504 with 1 Axes>"
      ]
     },
     "metadata": {
      "needs_background": "light"
     },
     "output_type": "display_data"
    }
   ],
   "source": [
    "compdf.sort_values('Vanguard Group, Inc. (The)',ascending=False)[:5].plot.barh(x='Company',figsize=(10,7),cmap='gist_rainbow')"
   ]
  },
  {
   "cell_type": "code",
   "execution_count": 18,
   "metadata": {},
   "outputs": [
    {
     "data": {
      "text/plain": [
       "<matplotlib.axes._subplots.AxesSubplot at 0x7fe1205bfa30>"
      ]
     },
     "execution_count": 18,
     "metadata": {},
     "output_type": "execute_result"
    },
    {
     "data": {
      "image/png": "[encoded data removed]",
      "text/plain": [
       "<Figure size 1080x504 with 1 Axes>"
      ]
     },
     "metadata": {
      "needs_background": "light"
     },
     "output_type": "display_data"
    }
   ],
   "source": [
    "compdf.sort_values('Vanguard Group, Inc. (The)').plot.bar(x='Company',\n",
    "                figsize=(15,7),\n",
    "                cmap='gist_rainbow')"
   ]
  },
  {
   "cell_type": "code",
   "execution_count": 19,
   "metadata": {},
   "outputs": [
    {
     "data": {
      "text/plain": [
       "<matplotlib.axes._subplots.AxesSubplot at 0x7fe12008a610>"
      ]
     },
     "execution_count": 19,
     "metadata": {},
     "output_type": "execute_result"
    },
    {
     "data": {
      "image/png": "[encoded data removed]",
      "text/plain": [
       "<Figure size 1080x504 with 1 Axes>"
      ]
     },
     "metadata": {
      "needs_background": "light"
     },
     "output_type": "display_data"
    }
   ],
   "source": [
    "compdf.sort_values('Vanguard Group, Inc. (The)')[8:].plot.bar(x='Company',\n",
    "                figsize=(15,7),\n",
    "                cmap='gist_rainbow')"
   ]
  },
  {
   "cell_type": "markdown",
   "metadata": {},
   "source": [
    "### We could branch off and ask other questions.... but... \n",
    "### What is the historical value of DJIA stocks over 2020 to date?"
   ]
  },
  {
   "cell_type": "code",
   "execution_count": 15,
   "metadata": {},
   "outputs": [],
   "source": [
    "few_days = si.get_data('aapl', start_date = '01/01/2020', end_date = '08/12/2020')"
   ]
  },
  {
   "cell_type": "code",
   "execution_count": 16,
   "metadata": {},
   "outputs": [
    {
     "data": {
      "text/plain": [
       "pandas.core.frame.DataFrame"
      ]
     },
     "execution_count": 16,
     "metadata": {},
     "output_type": "execute_result"
    }
   ],
   "source": [
    "type(few_days)"
   ]
  },
  {
   "cell_type": "code",
   "execution_count": 17,
   "metadata": {},
   "outputs": [],
   "source": [
    "# from pandas.plotting import register_matplotlib_converters\n",
    "# register_matplotlib_converters()"
   ]
  },
  {
   "cell_type": "code",
   "execution_count": 18,
   "metadata": {},
   "outputs": [
    {
     "data": {
      "text/plain": [
       "'Apple Inc.'"
      ]
     },
     "execution_count": 18,
     "metadata": {},
     "output_type": "execute_result"
    }
   ],
   "source": [
    "get_symbol('AAPL')"
   ]
  },
  {
   "cell_type": "code",
   "execution_count": 24,
   "metadata": {},
   "outputs": [
    {
     "data": {
      "image/png": "[encoded data removed]",
      "text/plain": [
       "<Figure size 504x360 with 1 Axes>"
      ]
     },
     "metadata": {
      "needs_background": "light"
     },
     "output_type": "display_data"
    }
   ],
   "source": [
    "fig,ax = plt.subplots(1,1,figsize=(7,5))\n",
    "ax.plot(few_days.index, few_days.high)\n",
    "ax.set_title(get_symbol('AAPL'))\n",
    "fig.autofmt_xdate()"
   ]
  },
  {
   "cell_type": "code",
   "execution_count": 25,
   "metadata": {},
   "outputs": [
    {
     "data": {
      "application/vnd.jupyter.widget-view+json": {
       "model_id": "d0946d26b820403e81bf993b3af57c4c",
       "version_major": 2,
       "version_minor": 0
      },
      "text/plain": [
       "interactive(children=(Dropdown(description='ticker', options=('AAPL', 'AXP', 'BA', 'CAT', 'CSCO', 'CVX', 'DIS'…"
      ]
     },
     "metadata": {},
     "output_type": "display_data"
    }
   ],
   "source": [
    "def plotdows(ticker='AAPL'):\n",
    "    few_days = si.get_data(ticker, start_date = '01/01/2020', end_date = '08/12/2020')\n",
    "    fig,ax = plt.subplots(1,1,figsize=(7,5))\n",
    "    ax.plot(few_days.index, few_days.high)\n",
    "    ax.set_title(get_symbol(ticker))\n",
    "    fig.autofmt_xdate()\n",
    "    \n",
    "ipywidgets.interactive(plotdows,ticker=dow_list)"
   ]
  }
 ],
 "metadata": {
  "kernelspec": {
   "display_name": "Python 3",
   "language": "python",
   "name": "python3"
  },
  "language_info": {
   "codemirror_mode": {
    "name": "ipython",
    "version": 3
   },
   "file_extension": ".py",
   "mimetype": "text/x-python",
   "name": "python",
   "nbconvert_exporter": "python",
   "pygments_lexer": "ipython3",
   "version": "3.8.4"
  }
 },
 "nbformat": 4,
 "nbformat_minor": 4
}
